{
 "cells": [
  {
   "cell_type": "code",
   "execution_count": 8,
   "metadata": {},
   "outputs": [],
   "source": [
    "import matplotlib\n",
    "import pandas as pd\n",
    "import numpy as np\n",
    "import matplotlib.pyplot as plt\n",
    "import seaborn as sns\n",
    "%matplotlib inline"
   ]
  },
  {
   "cell_type": "code",
   "execution_count": 9,
   "metadata": {},
   "outputs": [],
   "source": [
    "tweet_find = []\n",
    "tweet_not_find = []\n",
    "twitter_archive = pd.read_csv('twitter-archive-enhanced.csv')\n",
    "url = \"https://d17h27t6h515a5.cloudfront.net/topher/2017/August/599fd2ad_image-predictions/image-predictions.tsv\"\n",
    "\n",
    "respone = requests.get(url)\n",
    "file_name = 'image-predictions.tsv'\n",
    "\n",
    "if not os.path.isfile(file_name):\n",
    "    with open('file_name', mode ='wb') as file:\n",
    "        file.write(respone.content)\n",
    "\n",
    "image_prediction = pd.read_csv('image-predictions.tsv', sep='\\t' )\n",
    "\n",
    "list_of_dicts = []\n",
    "for tweet in tweet_find: \n",
    "    list_of_dicts.append(tweet._json)\n",
    "    \n",
    "with open('tweet_json.txt', 'w') as file:\n",
    "        file.write(json.dumps(list_of_dicts, indent=4))\n",
    "list_of_demos = [] \n",
    "with open('tweet_json.txt', encoding = 'utf-8') as json_file:\n",
    "    data = json.load(json_file)\n",
    "    for dicts in data: \n",
    "        tweet_id = dicts['id']\n",
    "        whole_tweet = dicts['text']\n",
    "        #only_url = whole_tweet[whole_tweet.find('https')]\n",
    "        favorite_count = dicts['favorite_count']\n",
    "        retweet_count = dicts['retweet_count']\n",
    "        followers_count = dicts['user']['followers_count']\n",
    "        friends_count = dicts['user']['friends_count']\n",
    "        whole_source = dicts['source']\n",
    "        only_device = whole_source[whole_source.find('rel=\"nofollow\">') + 15:-4]\n",
    "        source = only_device\n",
    "        retweeted_status = dicts['retweeted_status'] = dicts.get('retweeted_status','Original Tweet')\n",
    "\n",
    "        list_of_demos.append({'tweet_id': str(tweet_id),\n",
    "                              'favorite_count': int(favorite_count),\n",
    "                              'retweet_count' : int(retweet_count),\n",
    "                              'followers_count': int(followers_count),\n",
    "                              'retweet_status': retweeted_status,\n",
    "                              'source': source\n",
    "                             })\n",
    "        tweet_json = pd.DataFrame(list_of_demos, columns=['tweet_id','favorite_count','retweet_count','followers_count','source','retweet_status'])\n"
   ]
  },
  {
   "cell_type": "code",
   "execution_count": 10,
   "metadata": {},
   "outputs": [
    {
     "ename": "NameError",
     "evalue": "name 'tweet_json' is not defined",
     "output_type": "error",
     "traceback": [
      "\u001b[1;31m---------------------------------------------------------------------------\u001b[0m",
      "\u001b[1;31mNameError\u001b[0m                                 Traceback (most recent call last)",
      "\u001b[1;32m<ipython-input-10-7671d6957d0b>\u001b[0m in \u001b[0;36m<module>\u001b[1;34m\u001b[0m\n\u001b[0;32m      1\u001b[0m \u001b[0mtwitter_archive_clean\u001b[0m \u001b[1;33m=\u001b[0m \u001b[0mtwitter_archive\u001b[0m\u001b[1;33m.\u001b[0m\u001b[0mcopy\u001b[0m\u001b[1;33m(\u001b[0m\u001b[1;33m)\u001b[0m\u001b[1;33m\u001b[0m\u001b[1;33m\u001b[0m\u001b[0m\n\u001b[0;32m      2\u001b[0m \u001b[0mimage_prediction_clean\u001b[0m \u001b[1;33m=\u001b[0m \u001b[0mimage_prediction\u001b[0m\u001b[1;33m.\u001b[0m\u001b[0mcopy\u001b[0m\u001b[1;33m(\u001b[0m\u001b[1;33m)\u001b[0m\u001b[1;33m\u001b[0m\u001b[1;33m\u001b[0m\u001b[0m\n\u001b[1;32m----> 3\u001b[1;33m \u001b[0mtweet_json_clean\u001b[0m \u001b[1;33m=\u001b[0m \u001b[0mtweet_json\u001b[0m\u001b[1;33m.\u001b[0m\u001b[0mcopy\u001b[0m\u001b[1;33m(\u001b[0m\u001b[1;33m)\u001b[0m\u001b[1;33m\u001b[0m\u001b[1;33m\u001b[0m\u001b[0m\n\u001b[0m",
      "\u001b[1;31mNameError\u001b[0m: name 'tweet_json' is not defined"
     ]
    }
   ],
   "source": [
    "twitter_archive_clean = twitter_archive.copy()\n",
    "image_prediction_clean = image_prediction.copy()\n",
    "tweet_json_clean = tweet_json.copy()"
   ]
  },
  {
   "cell_type": "code",
   "execution_count": null,
   "metadata": {},
   "outputs": [],
   "source": []
  },
  {
   "cell_type": "code",
   "execution_count": null,
   "metadata": {},
   "outputs": [],
   "source": []
  },
  {
   "cell_type": "code",
   "execution_count": null,
   "metadata": {},
   "outputs": [],
   "source": []
  }
 ],
 "metadata": {
  "kernelspec": {
   "display_name": "Python 3",
   "language": "python",
   "name": "python3"
  },
  "language_info": {
   "codemirror_mode": {
    "name": "ipython",
    "version": 3
   },
   "file_extension": ".py",
   "mimetype": "text/x-python",
   "name": "python",
   "nbconvert_exporter": "python",
   "pygments_lexer": "ipython3",
   "version": "3.8.3"
  }
 },
 "nbformat": 4,
 "nbformat_minor": 4
}
